{
  "nbformat": 4,
  "nbformat_minor": 0,
  "metadata": {
    "colab": {
      "name": "1-introduction-to-numpy.ipynb",
      "version": "0.3.2",
      "provenance": [],
      "collapsed_sections": []
    },
    "kernelspec": {
      "name": "python3",
      "display_name": "Python 3"
    }
  },
  "cells": [
    {
      "metadata": {
        "id": "RUM5dOtGkUYo",
        "colab_type": "code",
        "colab": {
          "base_uri": "https://localhost:8080/",
          "height": 187
        },
        "outputId": "98d603e2-e38a-41ba-b76b-5bcd7dca6a42"
      },
      "cell_type": "code",
      "source": [
        "import numpy as np\n",
        "a = np.matrix('22, 5, 16, 9; 13, 20, 19, 0; 5, 9, 1, 16; 27, 13, 15, 19')\n",
        "b = np.matrix('10, 5, 20, 20; 5, 21, 22, 27; 26, 19, 22, 3; 27, 8, 18, 7')\n",
        "c = np.array([24, 3, 17, 7, 11, 2, 21, 2, 24, 18, 3, 11, 14, 25, 2, 20])\n",
        "d = np.array([3, 15, 24, 22, 19, 24, 4, 29, 6, 3, 20, 1, 11, 25, 26, 6])\n",
        "\n",
        "print(a)\n",
        "print(b)\n",
        "print(c)\n",
        "print(d)"
      ],
      "execution_count": 8,
      "outputs": [
        {
          "output_type": "stream",
          "text": [
            "[[22  5 16  9]\n",
            " [13 20 19  0]\n",
            " [ 5  9  1 16]\n",
            " [27 13 15 19]]\n",
            "[[10  5 20 20]\n",
            " [ 5 21 22 27]\n",
            " [26 19 22  3]\n",
            " [27  8 18  7]]\n",
            "[24  3 17  7 11  2 21  2 24 18  3 11 14 25  2 20]\n",
            "[ 3 15 24 22 19 24  4 29  6  3 20  1 11 25 26  6]\n"
          ],
          "name": "stdout"
        }
      ]
    },
    {
      "metadata": {
        "id": "RTCh18skrg5P",
        "colab_type": "text"
      },
      "cell_type": "markdown",
      "source": [
        ""
      ]
    },
    {
      "metadata": {
        "id": "iU1N_7eelAcS",
        "colab_type": "code",
        "colab": {
          "base_uri": "https://localhost:8080/",
          "height": 85
        },
        "outputId": "9c49b638-1317-42c2-ffaf-30dbd365e1c2"
      },
      "cell_type": "code",
      "source": [
        "a+b"
      ],
      "execution_count": 9,
      "outputs": [
        {
          "output_type": "execute_result",
          "data": {
            "text/plain": [
              "matrix([[32, 10, 36, 29],\n",
              "        [18, 41, 41, 27],\n",
              "        [31, 28, 23, 19],\n",
              "        [54, 21, 33, 26]])"
            ]
          },
          "metadata": {
            "tags": []
          },
          "execution_count": 9
        }
      ]
    },
    {
      "metadata": {
        "id": "YI8XZI6KnNh0",
        "colab_type": "code",
        "colab": {
          "base_uri": "https://localhost:8080/",
          "height": 85
        },
        "outputId": "5309c7e6-5ea9-47e5-9ac0-79a48340f091"
      },
      "cell_type": "code",
      "source": [
        "a-b"
      ],
      "execution_count": 10,
      "outputs": [
        {
          "output_type": "execute_result",
          "data": {
            "text/plain": [
              "matrix([[ 12,   0,  -4, -11],\n",
              "        [  8,  -1,  -3, -27],\n",
              "        [-21, -10, -21,  13],\n",
              "        [  0,   5,  -3,  12]])"
            ]
          },
          "metadata": {
            "tags": []
          },
          "execution_count": 10
        }
      ]
    },
    {
      "metadata": {
        "id": "Nq7OhJqNnPtu",
        "colab_type": "code",
        "colab": {
          "base_uri": "https://localhost:8080/",
          "height": 85
        },
        "outputId": "f1b27571-ade3-48e0-c2d6-ec3143e1d838"
      },
      "cell_type": "code",
      "source": [
        "a*b"
      ],
      "execution_count": 11,
      "outputs": [
        {
          "output_type": "execute_result",
          "data": {
            "text/plain": [
              "matrix([[ 904,  591, 1064,  686],\n",
              "        [ 724,  846, 1118,  857],\n",
              "        [ 553,  361,  608,  458],\n",
              "        [1238,  845, 1498, 1069]])"
            ]
          },
          "metadata": {
            "tags": []
          },
          "execution_count": 11
        }
      ]
    },
    {
      "metadata": {
        "id": "DPUcC3EVnSKX",
        "colab_type": "code",
        "colab": {
          "base_uri": "https://localhost:8080/",
          "height": 85
        },
        "outputId": "9d55bc93-6430-4487-f0fc-1c560028d0f1"
      },
      "cell_type": "code",
      "source": [
        "np.multiply(a, b)"
      ],
      "execution_count": 12,
      "outputs": [
        {
          "output_type": "execute_result",
          "data": {
            "text/plain": [
              "matrix([[220,  25, 320, 180],\n",
              "        [ 65, 420, 418,   0],\n",
              "        [130, 171,  22,  48],\n",
              "        [729, 104, 270, 133]])"
            ]
          },
          "metadata": {
            "tags": []
          },
          "execution_count": 12
        }
      ]
    },
    {
      "metadata": {
        "id": "uLkLzVOAnpQe",
        "colab_type": "code",
        "colab": {
          "base_uri": "https://localhost:8080/",
          "height": 34
        },
        "outputId": "a1169b01-1040-4584-def2-a2f1218cfe87"
      },
      "cell_type": "code",
      "source": [
        "c+d"
      ],
      "execution_count": 13,
      "outputs": [
        {
          "output_type": "execute_result",
          "data": {
            "text/plain": [
              "array([27, 18, 41, 29, 30, 26, 25, 31, 30, 21, 23, 12, 25, 50, 28, 26])"
            ]
          },
          "metadata": {
            "tags": []
          },
          "execution_count": 13
        }
      ]
    },
    {
      "metadata": {
        "id": "JIYImdajnsvh",
        "colab_type": "code",
        "colab": {
          "base_uri": "https://localhost:8080/",
          "height": 51
        },
        "outputId": "aa92ed2b-e7ef-4ee7-da8e-01d35589ffdc"
      },
      "cell_type": "code",
      "source": [
        "c-d"
      ],
      "execution_count": 14,
      "outputs": [
        {
          "output_type": "execute_result",
          "data": {
            "text/plain": [
              "array([ 21, -12,  -7, -15,  -8, -22,  17, -27,  18,  15, -17,  10,   3,\n",
              "         0, -24,  14])"
            ]
          },
          "metadata": {
            "tags": []
          },
          "execution_count": 14
        }
      ]
    },
    {
      "metadata": {
        "id": "eGi4Vgj5nuL2",
        "colab_type": "code",
        "colab": {
          "base_uri": "https://localhost:8080/",
          "height": 51
        },
        "outputId": "789cdc40-cf05-4495-9855-f11a374c32da"
      },
      "cell_type": "code",
      "source": [
        "c*d"
      ],
      "execution_count": 15,
      "outputs": [
        {
          "output_type": "execute_result",
          "data": {
            "text/plain": [
              "array([ 72,  45, 408, 154, 209,  48,  84,  58, 144,  54,  60,  11, 154,\n",
              "       625,  52, 120])"
            ]
          },
          "metadata": {
            "tags": []
          },
          "execution_count": 15
        }
      ]
    },
    {
      "metadata": {
        "id": "DjasSOhtnz1w",
        "colab_type": "code",
        "colab": {
          "base_uri": "https://localhost:8080/",
          "height": 51
        },
        "outputId": "d825b832-e7cd-41b8-c3b8-1196e6fda7fb"
      },
      "cell_type": "code",
      "source": [
        "np.multiply(c, d)"
      ],
      "execution_count": 16,
      "outputs": [
        {
          "output_type": "execute_result",
          "data": {
            "text/plain": [
              "array([ 72,  45, 408, 154, 209,  48,  84,  58, 144,  54,  60,  11, 154,\n",
              "       625,  52, 120])"
            ]
          },
          "metadata": {
            "tags": []
          },
          "execution_count": 16
        }
      ]
    },
    {
      "metadata": {
        "id": "EupWTx5yn44F",
        "colab_type": "code",
        "colab": {
          "base_uri": "https://localhost:8080/",
          "height": 85
        },
        "outputId": "09605bf2-d5d8-4854-9d5e-e4554798120e"
      },
      "cell_type": "code",
      "source": [
        "a+10"
      ],
      "execution_count": 17,
      "outputs": [
        {
          "output_type": "execute_result",
          "data": {
            "text/plain": [
              "matrix([[32, 15, 26, 19],\n",
              "        [23, 30, 29, 10],\n",
              "        [15, 19, 11, 26],\n",
              "        [37, 23, 25, 29]])"
            ]
          },
          "metadata": {
            "tags": []
          },
          "execution_count": 17
        }
      ]
    },
    {
      "metadata": {
        "id": "LpLehH-6n7NW",
        "colab_type": "code",
        "colab": {
          "base_uri": "https://localhost:8080/",
          "height": 85
        },
        "outputId": "26268d56-02dd-4d7e-b833-ebe6aee17ec5"
      },
      "cell_type": "code",
      "source": [
        "b+10"
      ],
      "execution_count": 18,
      "outputs": [
        {
          "output_type": "execute_result",
          "data": {
            "text/plain": [
              "matrix([[20, 15, 30, 30],\n",
              "        [15, 31, 32, 37],\n",
              "        [36, 29, 32, 13],\n",
              "        [37, 18, 28, 17]])"
            ]
          },
          "metadata": {
            "tags": []
          },
          "execution_count": 18
        }
      ]
    },
    {
      "metadata": {
        "id": "IPr8Gq5kn8-n",
        "colab_type": "code",
        "colab": {
          "base_uri": "https://localhost:8080/",
          "height": 34
        },
        "outputId": "aa1c7bae-5e6f-452c-9b74-680f437415fe"
      },
      "cell_type": "code",
      "source": [
        "c+15"
      ],
      "execution_count": 19,
      "outputs": [
        {
          "output_type": "execute_result",
          "data": {
            "text/plain": [
              "array([39, 18, 32, 22, 26, 17, 36, 17, 39, 33, 18, 26, 29, 40, 17, 35])"
            ]
          },
          "metadata": {
            "tags": []
          },
          "execution_count": 19
        }
      ]
    },
    {
      "metadata": {
        "id": "2XNuOzW0n-T_",
        "colab_type": "code",
        "colab": {
          "base_uri": "https://localhost:8080/",
          "height": 34
        },
        "outputId": "f655b91c-ffcb-4858-b161-b69e1ed21f80"
      },
      "cell_type": "code",
      "source": [
        "d+15"
      ],
      "execution_count": 20,
      "outputs": [
        {
          "output_type": "execute_result",
          "data": {
            "text/plain": [
              "array([18, 30, 39, 37, 34, 39, 19, 44, 21, 18, 35, 16, 26, 40, 41, 21])"
            ]
          },
          "metadata": {
            "tags": []
          },
          "execution_count": 20
        }
      ]
    },
    {
      "metadata": {
        "id": "KQ-03hHsoAdL",
        "colab_type": "code",
        "colab": {
          "base_uri": "https://localhost:8080/",
          "height": 85
        },
        "outputId": "7c9a461c-25fe-4336-89dd-fbcf9ba0224a"
      },
      "cell_type": "code",
      "source": [
        "(2*a) + (2*b)"
      ],
      "execution_count": 22,
      "outputs": [
        {
          "output_type": "execute_result",
          "data": {
            "text/plain": [
              "matrix([[ 64,  20,  72,  58],\n",
              "        [ 36,  82,  82,  54],\n",
              "        [ 62,  56,  46,  38],\n",
              "        [108,  42,  66,  52]])"
            ]
          },
          "metadata": {
            "tags": []
          },
          "execution_count": 22
        }
      ]
    },
    {
      "metadata": {
        "id": "2xXEvn1IpoW9",
        "colab_type": "code",
        "colab": {
          "base_uri": "https://localhost:8080/",
          "height": 85
        },
        "outputId": "7fddcecc-5138-4913-e10e-d80a808fb220"
      },
      "cell_type": "code",
      "source": [
        "(a+b) * 3"
      ],
      "execution_count": 23,
      "outputs": [
        {
          "output_type": "execute_result",
          "data": {
            "text/plain": [
              "matrix([[ 96,  30, 108,  87],\n",
              "        [ 54, 123, 123,  81],\n",
              "        [ 93,  84,  69,  57],\n",
              "        [162,  63,  99,  78]])"
            ]
          },
          "metadata": {
            "tags": []
          },
          "execution_count": 23
        }
      ]
    },
    {
      "metadata": {
        "id": "kQugV8hlpvYZ",
        "colab_type": "code",
        "colab": {
          "base_uri": "https://localhost:8080/",
          "height": 85
        },
        "outputId": "97a04014-53a7-4922-f85e-be273d22a71d"
      },
      "cell_type": "code",
      "source": [
        "(a-b+a-b+b)*4"
      ],
      "execution_count": 24,
      "outputs": [
        {
          "output_type": "execute_result",
          "data": {
            "text/plain": [
              "matrix([[ 136,   20,   48,   -8],\n",
              "        [  84,   76,   64, -108],\n",
              "        [ -64,   -4,  -80,  116],\n",
              "        [ 108,   72,   48,  124]])"
            ]
          },
          "metadata": {
            "tags": []
          },
          "execution_count": 24
        }
      ]
    },
    {
      "metadata": {
        "id": "RMgG5uOkp7ZO",
        "colab_type": "code",
        "colab": {}
      },
      "cell_type": "code",
      "source": [
        ""
      ],
      "execution_count": 0,
      "outputs": []
    }
  ]
}